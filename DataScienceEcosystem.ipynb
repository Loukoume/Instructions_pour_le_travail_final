{
 "cells": [
  {
   "cell_type": "markdown",
   "id": "fae51079-cebe-4cbc-9912-4dc60f2cba7f",
   "metadata": {},
   "source": [
    "# Data Science Tools and Ecosystem"
   ]
  },
  {
   "cell_type": "markdown",
   "id": "7edca23a-2f6e-414a-ab73-a3e22ba7c716",
   "metadata": {},
   "source": [
    "## In this notebook, Data Science Tools and Ecosystem are summarized."
   ]
  },
  {
   "cell_type": "markdown",
   "id": "f05797f9-2bdb-409d-90ff-59b74c7905e6",
   "metadata": {},
   "source": [
    "***Some of the popular languages that Data Scientists use are:***\n",
    "1. Python\n",
    "2. R\n",
    "3. Scala\n",
    "4. Java ML"
   ]
  },
  {
   "cell_type": "markdown",
   "id": "a92b14d1-1727-4d4b-b92a-685eb0de748a",
   "metadata": {},
   "source": [
    "***Some of the commonly used libraries used by Data Scientists include:***\n",
    "- Pandas\n",
    "- Numpy\n",
    "- Matplotlib"
   ]
  },
  {
   "cell_type": "markdown",
   "id": "3008ade3-5a20-484b-a0a7-a4ee6ae2c8b4",
   "metadata": {},
   "source": [
    "|Data Science Tools|\n",
    "-----------------\n",
    "| Jupiter notebook |\n",
    "| Rstudio          |\n",
    "| Vscode           |\n",
    "\n",
    "\n"
   ]
  },
  {
   "cell_type": "markdown",
   "id": "fb3341f4-d54e-43e9-8366-034623fb737c",
   "metadata": {},
   "source": [
    "### Below are a few examples of evaluating arithmetic expressions in Python\n",
    "* 1+4\n",
    "* 1-3*(5+7)\n",
    "* 21/12(4-3)"
   ]
  },
  {
   "cell_type": "code",
   "execution_count": 1,
   "id": "ecf02fd4-1a6c-44cc-bf9a-3b7d0bab189e",
   "metadata": {},
   "outputs": [
    {
     "data": {
      "text/plain": [
       "17"
      ]
     },
     "execution_count": 1,
     "metadata": {},
     "output_type": "execute_result"
    }
   ],
   "source": [
    "# This a simple arithmetic expression to mutiply then add integers\n",
    "3*4+5"
   ]
  },
  {
   "cell_type": "code",
   "execution_count": 2,
   "id": "85ac046e-4609-4c2d-87bc-5964e5dae319",
   "metadata": {},
   "outputs": [
    {
     "data": {
      "text/plain": [
       "3.3333333333333335"
      ]
     },
     "execution_count": 2,
     "metadata": {},
     "output_type": "execute_result"
    }
   ],
   "source": [
    "# his will convert 200 minutes to hours by diving by 60\n",
    "200/60"
   ]
  },
  {
   "cell_type": "markdown",
   "id": "ef69c7e2-706d-49b7-a600-573f83e922cc",
   "metadata": {},
   "source": [
    "***Objectives:***\n",
    "* Python\n",
    "* Java\n",
    "* R"
   ]
  },
  {
   "cell_type": "markdown",
   "id": "0133b88d-fc10-4e52-8907-a13650b3bc85",
   "metadata": {},
   "source": [
    "## Author\n",
    "LOUKOUME Ayoula"
   ]
  },
  {
   "cell_type": "code",
   "execution_count": null,
   "id": "4b9f9b13-37fc-4db6-b692-41d05ce444b0",
   "metadata": {},
   "outputs": [],
   "source": []
  }
 ],
 "metadata": {
  "kernelspec": {
   "display_name": "Python 3 (ipykernel)",
   "language": "python",
   "name": "python3"
  },
  "language_info": {
   "codemirror_mode": {
    "name": "ipython",
    "version": 3
   },
   "file_extension": ".py",
   "mimetype": "text/x-python",
   "name": "python",
   "nbconvert_exporter": "python",
   "pygments_lexer": "ipython3",
   "version": "3.11.7"
  }
 },
 "nbformat": 4,
 "nbformat_minor": 5
}
